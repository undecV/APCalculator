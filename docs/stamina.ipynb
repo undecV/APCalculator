{
 "cells": [
  {
   "cell_type": "markdown",
   "metadata": {},
   "source": [
    "## BlueArchive Event"
   ]
  },
  {
   "cell_type": "code",
   "execution_count": 1,
   "metadata": {},
   "outputs": [
    {
     "name": "stdout",
     "output_type": "stream",
     "text": [
      "所需代幣=387500\n",
      "還需代幣=384028\n",
      "還需任務次數=5333.72\n",
      "還需體力=106680\n"
     ]
    }
   ],
   "source": [
    "import math\n",
    "\n",
    "\n",
    "data = {\"shop\":[{\"quantity\":700,\"price\":50},{\"quantity\":350,\"price\":150},{\"quantity\":200,\"price\":500},{\"quantity\":100,\"price\":2000}],\"currentTokens\":3472,\"tokensPerMission\":72,\"staminaPerMission\":20}\n",
    "\n",
    "# 商店 = [(數量, 價格), ...]\n",
    "商店 = data[\"shop\"]\n",
    "現有代幣 = data[\"currentTokens\"]\n",
    "每次任務獲得代幣 = data[\"tokensPerMission\"]\n",
    "每次任務需要體力 = data[\"staminaPerMission\"]\n",
    "\n",
    "\n",
    "所需代幣 = sum([row[\"quantity\"] * row[\"price\"] for row in 商店])\n",
    "還需代幣 = 所需代幣 - 現有代幣\n",
    "還需任務次數 = 還需代幣 / 每次任務獲得代幣\n",
    "還需體力 = math.ceil(還需任務次數) * 每次任務需要體力\n",
    "\n",
    "print(f\"{所需代幣=}\")\n",
    "print(f\"{還需代幣=}\")\n",
    "print(f\"{還需任務次數=:.2f}\")\n",
    "print(f\"{還需體力=}\")"
   ]
  },
  {
   "cell_type": "code",
   "execution_count": null,
   "metadata": {},
   "outputs": [
    {
     "name": "stdout",
     "output_type": "stream",
     "text": [
      "所需代幣=3875\n",
      "還需代幣=403\n",
      "還需任務次數=5.60\n",
      "還需體力=120\n"
     ]
    }
   ],
   "source": [
    "import math\n",
    "\n",
    "# 商店 = [(數量, 價格), ...]\n",
    "商店 = [\n",
    "    (70, 5),\n",
    "    (35, 15),\n",
    "    (20, 50),\n",
    "    (10, 200),\n",
    "]\n",
    "現有代幣 = 3472  # @param {type:\"integer\", min:0, step:1}\n",
    "每次任務獲得代幣 = 36+36  # @param {type:\"integer\", min:0, step:1}\n",
    "每次任務需要體力 = 20  # @param {type:\"integer\", min:0, step:1}\n",
    "\n",
    "\n",
    "所需代幣 = sum([數量 * 價格 for 數量, 價格 in 商店])\n",
    "還需代幣 = 所需代幣 - 現有代幣\n",
    "還需任務次數 = 還需代幣 / 每次任務獲得代幣\n",
    "還需體力 = math.ceil(還需任務次數) * 每次任務需要體力\n",
    "\n",
    "print(f\"{所需代幣=}\")\n",
    "print(f\"{還需代幣=}\")\n",
    "print(f\"{還需任務次數=:.2f}\")\n",
    "print(f\"{還需體力=}\")"
   ]
  },
  {
   "cell_type": "markdown",
   "metadata": {},
   "source": [
    "## Simple"
   ]
  },
  {
   "cell_type": "code",
   "execution_count": 13,
   "metadata": {},
   "outputs": [
    {
     "name": "stdout",
     "output_type": "stream",
     "text": [
      "還需點數=19850\n",
      "還需任務次數=44.11\n",
      "還需體力=2025\n"
     ]
    }
   ],
   "source": [
    "import math\n",
    "\n",
    "目標點數 = 100000  # @param {type:\"integer\", min:0, step:1}\n",
    "現有點數 = 80150  # @param {type:\"integer\", min:0, step:1}\n",
    "每次任務獲得點數 = 450  # @param {type:\"integer\", min:0, step:1}\n",
    "每次任務需要體力 = 45  # @param {type:\"integer\", min:0, step:1}\n",
    "\n",
    "還需點數 = 目標點數 - 現有點數\n",
    "還需任務次數 = 還需點數 / 每次任務獲得點數\n",
    "還需體力 = math.ceil(還需任務次數) * 每次任務需要體力\n",
    "\n",
    "print(f\"{還需點數=}\")\n",
    "print(f\"{還需任務次數=:.2f}\")\n",
    "print(f\"{還需體力=}\")"
   ]
  }
 ],
 "metadata": {
  "kernelspec": {
   "display_name": "Python 3",
   "language": "python",
   "name": "python3"
  },
  "language_info": {
   "codemirror_mode": {
    "name": "ipython",
    "version": 3
   },
   "file_extension": ".py",
   "mimetype": "text/x-python",
   "name": "python",
   "nbconvert_exporter": "python",
   "pygments_lexer": "ipython3",
   "version": "3.13.0"
  }
 },
 "nbformat": 4,
 "nbformat_minor": 2
}
